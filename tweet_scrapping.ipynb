{
  "nbformat": 4,
  "nbformat_minor": 0,
  "metadata": {
    "colab": {
      "provenance": [],
      "authorship_tag": "ABX9TyN8yrGyPN8ZB385Fn1arPSB",
      "include_colab_link": true
    },
    "kernelspec": {
      "name": "python3",
      "display_name": "Python 3"
    },
    "language_info": {
      "name": "python"
    }
  },
  "cells": [
    {
      "cell_type": "markdown",
      "metadata": {
        "id": "view-in-github",
        "colab_type": "text"
      },
      "source": [
        "<a href=\"https://colab.research.google.com/github/suvasish114/Facility-Detection-and-Popularity-Assessment/blob/main/tweet_scrapping.ipynb\" target=\"_parent\"><img src=\"https://colab.research.google.com/assets/colab-badge.svg\" alt=\"Open In Colab\"/></a>"
      ]
    },
    {
      "cell_type": "markdown",
      "source": [
        "Scrapping tweets"
      ],
      "metadata": {
        "id": "dRU8fGLQExWQ"
      }
    },
    {
      "cell_type": "code",
      "execution_count": 27,
      "metadata": {
        "id": "vW7ewMj_EuwB"
      },
      "outputs": [],
      "source": [
        "# installing packages\n",
        "# %pip install snscrape numpy pandas"
      ]
    },
    {
      "cell_type": "code",
      "source": [
        "# import libraries\n",
        "import snscrape.modules.twitter as sntwitter\n",
        "import pandas as pd"
      ],
      "metadata": {
        "id": "udxEUDZnE-Q4"
      },
      "execution_count": 28,
      "outputs": []
    },
    {
      "cell_type": "code",
      "source": [
        "# configarations\n",
        "limit = 10000\n",
        "tweets = []\n",
        "keywords = \" OR \".join([\"airport\"]).strip()\n",
        "query =  \"(\"+ keywords +\") \" +\"until:2023-03-06 since:2022-01-01 -filter:replies\""
      ],
      "metadata": {
        "id": "BnvsfRGfFOLR"
      },
      "execution_count": 29,
      "outputs": []
    },
    {
      "cell_type": "code",
      "source": [
        "# getting data\n",
        "for tweet in sntwitter.TwitterSearchScraper(query).get_items():\n",
        "    if len(tweets) == limit: break\n",
        "    if tweet.coordinates != None and tweet.lang == 'en':\n",
        "        # for a in vars(tweet): print(a)\n",
        "        # print(f\"#: {tweet.place}\")\n",
        "        tweets.append([\n",
        "            tweet.id,\n",
        "            tweet.date,\n",
        "            tweet.user.username,\n",
        "            tweet.rawContent,\n",
        "            tweet.hashtags,\n",
        "            tweet.likeCount,\n",
        "            tweet.viewCount,\n",
        "            tweet.coordinates.longitude,\n",
        "            tweet.coordinates.latitude,\n",
        "            tweet.place.name,\n",
        "            tweet.place.country\n",
        "        ])"
      ],
      "metadata": {
        "id": "EaD1fWe8Sx8r"
      },
      "execution_count": 30,
      "outputs": []
    },
    {
      "cell_type": "code",
      "source": [
        "# creating dataframe\n",
        "df = pd.DataFrame(tweets, columns=['id','date','username','content','hashtags','likes','view','longitude','latitude','place','country'])\n",
        "df.head()"
      ],
      "metadata": {
        "colab": {
          "base_uri": "https://localhost:8080/",
          "height": 478
        },
        "id": "yhpmNvTnOjCC",
        "outputId": "8c0d0407-c429-49fa-c1ac-5a1226412272"
      },
      "execution_count": 31,
      "outputs": [
        {
          "output_type": "execute_result",
          "data": {
            "text/plain": [
              "                    id                      date        username  \\\n",
              "0  1632167376933494786 2023-03-04 23:53:21+00:00  antoinettegaga   \n",
              "1  1632166965446955013 2023-03-04 23:51:43+00:00   earthnerdemma   \n",
              "2  1632165762373926912 2023-03-04 23:46:56+00:00    Shambhavi130   \n",
              "3  1632164068013510659 2023-03-04 23:40:12+00:00         mr_iiot   \n",
              "4  1632163378092294145 2023-03-04 23:37:28+00:00    M_Johnson681   \n",
              "\n",
              "                                             content      hashtags  likes  \\\n",
              "0  My gym 💪🏻 and my airport ✈️ with the killers a...          None      2   \n",
              "1  Jfk airport has all these murals that say “New...          None      4   \n",
              "2  Delhi airport's food isn't as great as people ...          None     27   \n",
              "3  Love @CBP @CBPLosAngeles 16 mins from touch do...          None      1   \n",
              "4  12 hours, 3 airports, 2 airlines, and 1 rental...  [WWEToronto]      3   \n",
              "\n",
              "   view   longitude   latitude            place        country  \n",
              "0    46 -115.355825  36.082837  Summerlin South  United States  \n",
              "1   181  -73.962582  40.541722           Queens  United States  \n",
              "2   983   76.842520  28.397657        New Delhi          India  \n",
              "3     4 -118.429843  33.901804       El Segundo  United States  \n",
              "4   460  -79.639319  43.403221          Toronto         Canada  "
            ],
            "text/html": [
              "\n",
              "  <div id=\"df-9984df8e-c0eb-4700-9004-4329a1258cec\">\n",
              "    <div class=\"colab-df-container\">\n",
              "      <div>\n",
              "<style scoped>\n",
              "    .dataframe tbody tr th:only-of-type {\n",
              "        vertical-align: middle;\n",
              "    }\n",
              "\n",
              "    .dataframe tbody tr th {\n",
              "        vertical-align: top;\n",
              "    }\n",
              "\n",
              "    .dataframe thead th {\n",
              "        text-align: right;\n",
              "    }\n",
              "</style>\n",
              "<table border=\"1\" class=\"dataframe\">\n",
              "  <thead>\n",
              "    <tr style=\"text-align: right;\">\n",
              "      <th></th>\n",
              "      <th>id</th>\n",
              "      <th>date</th>\n",
              "      <th>username</th>\n",
              "      <th>content</th>\n",
              "      <th>hashtags</th>\n",
              "      <th>likes</th>\n",
              "      <th>view</th>\n",
              "      <th>longitude</th>\n",
              "      <th>latitude</th>\n",
              "      <th>place</th>\n",
              "      <th>country</th>\n",
              "    </tr>\n",
              "  </thead>\n",
              "  <tbody>\n",
              "    <tr>\n",
              "      <th>0</th>\n",
              "      <td>1632167376933494786</td>\n",
              "      <td>2023-03-04 23:53:21+00:00</td>\n",
              "      <td>antoinettegaga</td>\n",
              "      <td>My gym 💪🏻 and my airport ✈️ with the killers a...</td>\n",
              "      <td>None</td>\n",
              "      <td>2</td>\n",
              "      <td>46</td>\n",
              "      <td>-115.355825</td>\n",
              "      <td>36.082837</td>\n",
              "      <td>Summerlin South</td>\n",
              "      <td>United States</td>\n",
              "    </tr>\n",
              "    <tr>\n",
              "      <th>1</th>\n",
              "      <td>1632166965446955013</td>\n",
              "      <td>2023-03-04 23:51:43+00:00</td>\n",
              "      <td>earthnerdemma</td>\n",
              "      <td>Jfk airport has all these murals that say “New...</td>\n",
              "      <td>None</td>\n",
              "      <td>4</td>\n",
              "      <td>181</td>\n",
              "      <td>-73.962582</td>\n",
              "      <td>40.541722</td>\n",
              "      <td>Queens</td>\n",
              "      <td>United States</td>\n",
              "    </tr>\n",
              "    <tr>\n",
              "      <th>2</th>\n",
              "      <td>1632165762373926912</td>\n",
              "      <td>2023-03-04 23:46:56+00:00</td>\n",
              "      <td>Shambhavi130</td>\n",
              "      <td>Delhi airport's food isn't as great as people ...</td>\n",
              "      <td>None</td>\n",
              "      <td>27</td>\n",
              "      <td>983</td>\n",
              "      <td>76.842520</td>\n",
              "      <td>28.397657</td>\n",
              "      <td>New Delhi</td>\n",
              "      <td>India</td>\n",
              "    </tr>\n",
              "    <tr>\n",
              "      <th>3</th>\n",
              "      <td>1632164068013510659</td>\n",
              "      <td>2023-03-04 23:40:12+00:00</td>\n",
              "      <td>mr_iiot</td>\n",
              "      <td>Love @CBP @CBPLosAngeles 16 mins from touch do...</td>\n",
              "      <td>None</td>\n",
              "      <td>1</td>\n",
              "      <td>4</td>\n",
              "      <td>-118.429843</td>\n",
              "      <td>33.901804</td>\n",
              "      <td>El Segundo</td>\n",
              "      <td>United States</td>\n",
              "    </tr>\n",
              "    <tr>\n",
              "      <th>4</th>\n",
              "      <td>1632163378092294145</td>\n",
              "      <td>2023-03-04 23:37:28+00:00</td>\n",
              "      <td>M_Johnson681</td>\n",
              "      <td>12 hours, 3 airports, 2 airlines, and 1 rental...</td>\n",
              "      <td>[WWEToronto]</td>\n",
              "      <td>3</td>\n",
              "      <td>460</td>\n",
              "      <td>-79.639319</td>\n",
              "      <td>43.403221</td>\n",
              "      <td>Toronto</td>\n",
              "      <td>Canada</td>\n",
              "    </tr>\n",
              "  </tbody>\n",
              "</table>\n",
              "</div>\n",
              "      <button class=\"colab-df-convert\" onclick=\"convertToInteractive('df-9984df8e-c0eb-4700-9004-4329a1258cec')\"\n",
              "              title=\"Convert this dataframe to an interactive table.\"\n",
              "              style=\"display:none;\">\n",
              "        \n",
              "  <svg xmlns=\"http://www.w3.org/2000/svg\" height=\"24px\"viewBox=\"0 0 24 24\"\n",
              "       width=\"24px\">\n",
              "    <path d=\"M0 0h24v24H0V0z\" fill=\"none\"/>\n",
              "    <path d=\"M18.56 5.44l.94 2.06.94-2.06 2.06-.94-2.06-.94-.94-2.06-.94 2.06-2.06.94zm-11 1L8.5 8.5l.94-2.06 2.06-.94-2.06-.94L8.5 2.5l-.94 2.06-2.06.94zm10 10l.94 2.06.94-2.06 2.06-.94-2.06-.94-.94-2.06-.94 2.06-2.06.94z\"/><path d=\"M17.41 7.96l-1.37-1.37c-.4-.4-.92-.59-1.43-.59-.52 0-1.04.2-1.43.59L10.3 9.45l-7.72 7.72c-.78.78-.78 2.05 0 2.83L4 21.41c.39.39.9.59 1.41.59.51 0 1.02-.2 1.41-.59l7.78-7.78 2.81-2.81c.8-.78.8-2.07 0-2.86zM5.41 20L4 18.59l7.72-7.72 1.47 1.35L5.41 20z\"/>\n",
              "  </svg>\n",
              "      </button>\n",
              "      \n",
              "  <style>\n",
              "    .colab-df-container {\n",
              "      display:flex;\n",
              "      flex-wrap:wrap;\n",
              "      gap: 12px;\n",
              "    }\n",
              "\n",
              "    .colab-df-convert {\n",
              "      background-color: #E8F0FE;\n",
              "      border: none;\n",
              "      border-radius: 50%;\n",
              "      cursor: pointer;\n",
              "      display: none;\n",
              "      fill: #1967D2;\n",
              "      height: 32px;\n",
              "      padding: 0 0 0 0;\n",
              "      width: 32px;\n",
              "    }\n",
              "\n",
              "    .colab-df-convert:hover {\n",
              "      background-color: #E2EBFA;\n",
              "      box-shadow: 0px 1px 2px rgba(60, 64, 67, 0.3), 0px 1px 3px 1px rgba(60, 64, 67, 0.15);\n",
              "      fill: #174EA6;\n",
              "    }\n",
              "\n",
              "    [theme=dark] .colab-df-convert {\n",
              "      background-color: #3B4455;\n",
              "      fill: #D2E3FC;\n",
              "    }\n",
              "\n",
              "    [theme=dark] .colab-df-convert:hover {\n",
              "      background-color: #434B5C;\n",
              "      box-shadow: 0px 1px 3px 1px rgba(0, 0, 0, 0.15);\n",
              "      filter: drop-shadow(0px 1px 2px rgba(0, 0, 0, 0.3));\n",
              "      fill: #FFFFFF;\n",
              "    }\n",
              "  </style>\n",
              "\n",
              "      <script>\n",
              "        const buttonEl =\n",
              "          document.querySelector('#df-9984df8e-c0eb-4700-9004-4329a1258cec button.colab-df-convert');\n",
              "        buttonEl.style.display =\n",
              "          google.colab.kernel.accessAllowed ? 'block' : 'none';\n",
              "\n",
              "        async function convertToInteractive(key) {\n",
              "          const element = document.querySelector('#df-9984df8e-c0eb-4700-9004-4329a1258cec');\n",
              "          const dataTable =\n",
              "            await google.colab.kernel.invokeFunction('convertToInteractive',\n",
              "                                                     [key], {});\n",
              "          if (!dataTable) return;\n",
              "\n",
              "          const docLinkHtml = 'Like what you see? Visit the ' +\n",
              "            '<a target=\"_blank\" href=https://colab.research.google.com/notebooks/data_table.ipynb>data table notebook</a>'\n",
              "            + ' to learn more about interactive tables.';\n",
              "          element.innerHTML = '';\n",
              "          dataTable['output_type'] = 'display_data';\n",
              "          await google.colab.output.renderOutput(dataTable, element);\n",
              "          const docLink = document.createElement('div');\n",
              "          docLink.innerHTML = docLinkHtml;\n",
              "          element.appendChild(docLink);\n",
              "        }\n",
              "      </script>\n",
              "    </div>\n",
              "  </div>\n",
              "  "
            ]
          },
          "metadata": {},
          "execution_count": 31
        }
      ]
    },
    {
      "cell_type": "code",
      "source": [
        "df.to_csv(\"twitter.csv\")"
      ],
      "metadata": {
        "id": "eRQ1Z6V5PFOX"
      },
      "execution_count": 32,
      "outputs": []
    }
  ]
}