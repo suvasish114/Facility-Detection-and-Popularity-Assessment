{
  "nbformat": 4,
  "nbformat_minor": 0,
  "metadata": {
    "colab": {
      "provenance": [],
      "collapsed_sections": [
        "x1IJjuIMsmPI",
        "wOkGu-wjKaoM",
        "F3ejcOeWh_od",
        "A098MvHBsb0W",
        "98fbN9uTshJO"
      ],
      "authorship_tag": "ABX9TyMU2vXshBAL9ApgNtGwsVgz",
      "include_colab_link": true
    },
    "kernelspec": {
      "name": "python3",
      "display_name": "Python 3"
    },
    "language_info": {
      "name": "python"
    }
  },
  "cells": [
    {
      "cell_type": "markdown",
      "metadata": {
        "id": "view-in-github",
        "colab_type": "text"
      },
      "source": [
        "<a href=\"https://colab.research.google.com/github/suvasish114/Facility-Detection-and-Popularity-Assessment/blob/main/Detection.ipynb\" target=\"_parent\"><img src=\"https://colab.research.google.com/assets/colab-badge.svg\" alt=\"Open In Colab\"/></a>"
      ]
    },
    {
      "cell_type": "markdown",
      "source": [
        "# Facility Detection and Popularity Assessment"
      ],
      "metadata": {
        "id": "M4v9ltkUIW54"
      }
    },
    {
      "cell_type": "markdown",
      "source": [
        "## 1. Data Collection"
      ],
      "metadata": {
        "id": "x1IJjuIMsmPI"
      }
    },
    {
      "cell_type": "code",
      "execution_count": null,
      "metadata": {
        "id": "BdlEkMBWIORC"
      },
      "outputs": [],
      "source": [
        "# Installing Libraries\n",
        "%pip install numpy pandas matplotlib nltk"
      ]
    },
    {
      "cell_type": "code",
      "source": [
        "# Importing libraries\n",
        "import re\n",
        "import numpy as np\n",
        "import pandas as pd\n",
        "from matplotlib import pyplot as plt\n",
        "import nltk\n",
        "nltk.download('all')\n",
        "from nltk.tokenize import word_tokenize\n",
        "from nltk.corpus import stopwords\n",
        "from nltk.stem import WordNetLemmatizer\n",
        "lemmatizer = WordNetLemmatizer()"
      ],
      "metadata": {
        "id": "5x_f88HVImQG"
      },
      "execution_count": null,
      "outputs": []
    },
    {
      "cell_type": "code",
      "source": [
        "# Load datasets\n",
        "dataset = pd.read_csv(\"twitter.csv\")\n",
        "dataset.info()"
      ],
      "metadata": {
        "colab": {
          "base_uri": "https://localhost:8080/",
          "height": 0
        },
        "id": "oQKFWwiZItv0",
        "outputId": "83e79db4-9896-49d4-e3a2-28e56f365881"
      },
      "execution_count": 84,
      "outputs": [
        {
          "output_type": "stream",
          "name": "stdout",
          "text": [
            "<class 'pandas.core.frame.DataFrame'>\n",
            "RangeIndex: 5145 entries, 0 to 5144\n",
            "Data columns (total 12 columns):\n",
            " #   Column      Non-Null Count  Dtype  \n",
            "---  ------      --------------  -----  \n",
            " 0   Unnamed: 0  5145 non-null   int64  \n",
            " 1   id          5145 non-null   int64  \n",
            " 2   date        5145 non-null   object \n",
            " 3   username    5145 non-null   object \n",
            " 4   content     5145 non-null   object \n",
            " 5   hashtags    1206 non-null   object \n",
            " 6   likes       5145 non-null   int64  \n",
            " 7   view        5141 non-null   float64\n",
            " 8   longitude   5145 non-null   float64\n",
            " 9   latitude    5145 non-null   float64\n",
            " 10  place       5145 non-null   object \n",
            " 11  country     5142 non-null   object \n",
            "dtypes: float64(3), int64(3), object(6)\n",
            "memory usage: 482.5+ KB\n"
          ]
        }
      ]
    },
    {
      "cell_type": "markdown",
      "source": [
        "## 2. Data Cleaning and Sanitization"
      ],
      "metadata": {
        "id": "wOkGu-wjKaoM"
      }
    },
    {
      "cell_type": "code",
      "source": [
        "# size of the dataset\n",
        "print(f\"Size: {dataset.shape[0]}\")\n",
        "# check for missing values\n",
        "print(f\"Missing content present: {dataset['content'].isna().any()}\")\n",
        "print(f\"Missing hashtags present: {dataset['hashtags'].isna().any()}\")"
      ],
      "metadata": {
        "colab": {
          "base_uri": "https://localhost:8080/",
          "height": 0
        },
        "id": "DqnvPcpKK8mA",
        "outputId": "07672b77-ef3d-45a6-ba04-df7626211a7f"
      },
      "execution_count": 85,
      "outputs": [
        {
          "output_type": "stream",
          "name": "stdout",
          "text": [
            "Size: 5145\n",
            "Missing content present: False\n",
            "Missing hashtags present: True\n"
          ]
        }
      ]
    },
    {
      "cell_type": "code",
      "source": [
        "# setup training data contains only english language\n",
        "training_data = dataset[[\"content\"]]\n",
        "training_data.head()"
      ],
      "metadata": {
        "id": "bflZIGiNUJlU",
        "colab": {
          "base_uri": "https://localhost:8080/",
          "height": 215
        },
        "outputId": "d82ced3b-bd1d-4be2-921c-9b107e5df0bb"
      },
      "execution_count": 86,
      "outputs": [
        {
          "output_type": "execute_result",
          "data": {
            "text/plain": [
              "                                             content\n",
              "0  Update: We tracked our own air tags to the air...\n",
              "1  Self check in at airports is not for all passp...\n",
              "2  Stopover at 🇦🇪 before 🇮🇹❗️ (@ Dubai Internatio...\n",
              "3  Yallll I realized I forgot my wallet once I go...\n",
              "4  Checked out 😩 (@ Holiday Inn Express Sydney Ai..."
            ],
            "text/html": [
              "\n",
              "  <div id=\"df-265de0ec-3b75-4f07-919a-c3bfb22019ee\">\n",
              "    <div class=\"colab-df-container\">\n",
              "      <div>\n",
              "<style scoped>\n",
              "    .dataframe tbody tr th:only-of-type {\n",
              "        vertical-align: middle;\n",
              "    }\n",
              "\n",
              "    .dataframe tbody tr th {\n",
              "        vertical-align: top;\n",
              "    }\n",
              "\n",
              "    .dataframe thead th {\n",
              "        text-align: right;\n",
              "    }\n",
              "</style>\n",
              "<table border=\"1\" class=\"dataframe\">\n",
              "  <thead>\n",
              "    <tr style=\"text-align: right;\">\n",
              "      <th></th>\n",
              "      <th>content</th>\n",
              "    </tr>\n",
              "  </thead>\n",
              "  <tbody>\n",
              "    <tr>\n",
              "      <th>0</th>\n",
              "      <td>Update: We tracked our own air tags to the air...</td>\n",
              "    </tr>\n",
              "    <tr>\n",
              "      <th>1</th>\n",
              "      <td>Self check in at airports is not for all passp...</td>\n",
              "    </tr>\n",
              "    <tr>\n",
              "      <th>2</th>\n",
              "      <td>Stopover at 🇦🇪 before 🇮🇹❗️ (@ Dubai Internatio...</td>\n",
              "    </tr>\n",
              "    <tr>\n",
              "      <th>3</th>\n",
              "      <td>Yallll I realized I forgot my wallet once I go...</td>\n",
              "    </tr>\n",
              "    <tr>\n",
              "      <th>4</th>\n",
              "      <td>Checked out 😩 (@ Holiday Inn Express Sydney Ai...</td>\n",
              "    </tr>\n",
              "  </tbody>\n",
              "</table>\n",
              "</div>\n",
              "      <button class=\"colab-df-convert\" onclick=\"convertToInteractive('df-265de0ec-3b75-4f07-919a-c3bfb22019ee')\"\n",
              "              title=\"Convert this dataframe to an interactive table.\"\n",
              "              style=\"display:none;\">\n",
              "        \n",
              "  <svg xmlns=\"http://www.w3.org/2000/svg\" height=\"24px\"viewBox=\"0 0 24 24\"\n",
              "       width=\"24px\">\n",
              "    <path d=\"M0 0h24v24H0V0z\" fill=\"none\"/>\n",
              "    <path d=\"M18.56 5.44l.94 2.06.94-2.06 2.06-.94-2.06-.94-.94-2.06-.94 2.06-2.06.94zm-11 1L8.5 8.5l.94-2.06 2.06-.94-2.06-.94L8.5 2.5l-.94 2.06-2.06.94zm10 10l.94 2.06.94-2.06 2.06-.94-2.06-.94-.94-2.06-.94 2.06-2.06.94z\"/><path d=\"M17.41 7.96l-1.37-1.37c-.4-.4-.92-.59-1.43-.59-.52 0-1.04.2-1.43.59L10.3 9.45l-7.72 7.72c-.78.78-.78 2.05 0 2.83L4 21.41c.39.39.9.59 1.41.59.51 0 1.02-.2 1.41-.59l7.78-7.78 2.81-2.81c.8-.78.8-2.07 0-2.86zM5.41 20L4 18.59l7.72-7.72 1.47 1.35L5.41 20z\"/>\n",
              "  </svg>\n",
              "      </button>\n",
              "      \n",
              "  <style>\n",
              "    .colab-df-container {\n",
              "      display:flex;\n",
              "      flex-wrap:wrap;\n",
              "      gap: 12px;\n",
              "    }\n",
              "\n",
              "    .colab-df-convert {\n",
              "      background-color: #E8F0FE;\n",
              "      border: none;\n",
              "      border-radius: 50%;\n",
              "      cursor: pointer;\n",
              "      display: none;\n",
              "      fill: #1967D2;\n",
              "      height: 32px;\n",
              "      padding: 0 0 0 0;\n",
              "      width: 32px;\n",
              "    }\n",
              "\n",
              "    .colab-df-convert:hover {\n",
              "      background-color: #E2EBFA;\n",
              "      box-shadow: 0px 1px 2px rgba(60, 64, 67, 0.3), 0px 1px 3px 1px rgba(60, 64, 67, 0.15);\n",
              "      fill: #174EA6;\n",
              "    }\n",
              "\n",
              "    [theme=dark] .colab-df-convert {\n",
              "      background-color: #3B4455;\n",
              "      fill: #D2E3FC;\n",
              "    }\n",
              "\n",
              "    [theme=dark] .colab-df-convert:hover {\n",
              "      background-color: #434B5C;\n",
              "      box-shadow: 0px 1px 3px 1px rgba(0, 0, 0, 0.15);\n",
              "      filter: drop-shadow(0px 1px 2px rgba(0, 0, 0, 0.3));\n",
              "      fill: #FFFFFF;\n",
              "    }\n",
              "  </style>\n",
              "\n",
              "      <script>\n",
              "        const buttonEl =\n",
              "          document.querySelector('#df-265de0ec-3b75-4f07-919a-c3bfb22019ee button.colab-df-convert');\n",
              "        buttonEl.style.display =\n",
              "          google.colab.kernel.accessAllowed ? 'block' : 'none';\n",
              "\n",
              "        async function convertToInteractive(key) {\n",
              "          const element = document.querySelector('#df-265de0ec-3b75-4f07-919a-c3bfb22019ee');\n",
              "          const dataTable =\n",
              "            await google.colab.kernel.invokeFunction('convertToInteractive',\n",
              "                                                     [key], {});\n",
              "          if (!dataTable) return;\n",
              "\n",
              "          const docLinkHtml = 'Like what you see? Visit the ' +\n",
              "            '<a target=\"_blank\" href=https://colab.research.google.com/notebooks/data_table.ipynb>data table notebook</a>'\n",
              "            + ' to learn more about interactive tables.';\n",
              "          element.innerHTML = '';\n",
              "          dataTable['output_type'] = 'display_data';\n",
              "          await google.colab.output.renderOutput(dataTable, element);\n",
              "          const docLink = document.createElement('div');\n",
              "          docLink.innerHTML = docLinkHtml;\n",
              "          element.appendChild(docLink);\n",
              "        }\n",
              "      </script>\n",
              "    </div>\n",
              "  </div>\n",
              "  "
            ]
          },
          "metadata": {},
          "execution_count": 86
        }
      ]
    },
    {
      "cell_type": "code",
      "source": [
        "# Data sanitation\n",
        "def sanitation(content):\n",
        "    ''' 1. Remove all URLs.\n",
        "        2. Remove all non-ASCII characters, and numbers.\n",
        "        3. Replace @ with 'at'.\n",
        "        4. Replace _ with space.\n",
        "        5. Lower case all characters. '''\n",
        "    ascii = [32] + list(range(65,91)) + list(range(97,123))\n",
        "    _s = content.split(\" \")\n",
        "    temp = []\n",
        "    for a in _s:\n",
        "        # remove URL\n",
        "        if re.findall(\"^http\",a): pass\n",
        "        # remove non-ASCII characters and numbers\n",
        "        else:\n",
        "            temp1 = \"\"\n",
        "            for b in a:\n",
        "                if b == \"@\": temp1 += \"at \"\n",
        "                elif b == \"_\": temp1 += \" \"\n",
        "                elif ord(b) in ascii: temp1 += b\n",
        "                # else: pass\n",
        "            if len(temp1.strip()) > 0: temp.append(temp1.lower())\n",
        "    return \" \".join(temp).strip()\n",
        "\n",
        "# sanitation(\"my favourite track is feel_good_inside by @gorilaz\")"
      ],
      "metadata": {
        "id": "H4JdwDlTeJ73"
      },
      "execution_count": 87,
      "outputs": []
    },
    {
      "cell_type": "code",
      "source": [
        "# Word tokenization\n",
        "# removed non-ASCII characters\n",
        "tokenize = []\n",
        "for a in list(training_data[\"content\"]):\n",
        "    tokenize.append(word_tokenize(sanitation(a)))"
      ],
      "metadata": {
        "id": "MxQe75-9ZgTk"
      },
      "execution_count": 88,
      "outputs": []
    },
    {
      "cell_type": "code",
      "source": [
        "# Removing stop words\n",
        "stop_words = set(stopwords.words('english'))\n",
        "stop_words.remove('at')\n",
        "filtered_contents = []\n",
        "for w in tokenize:\n",
        "    temp = [a for a in w if a not in stop_words]\n",
        "    filtered_contents.append(temp)\n",
        "\n",
        "# free memeory\n",
        "del tokenize"
      ],
      "metadata": {
        "id": "xeOc0MXJdTvm"
      },
      "execution_count": 92,
      "outputs": []
    },
    {
      "cell_type": "code",
      "source": [
        "# Lemmatization\n",
        "for i in range(len(filtered_contents)):\n",
        "    for j in range(len(filtered_contents[i])):\n",
        "        filtered_contents[i][j] = lemmatizer.lemmatize(filtered_contents[i][j])"
      ],
      "metadata": {
        "id": "C-ob3_cHdw0r"
      },
      "execution_count": 90,
      "outputs": []
    },
    {
      "cell_type": "markdown",
      "source": [
        "## 3. Classification"
      ],
      "metadata": {
        "id": "F3ejcOeWh_od"
      }
    },
    {
      "cell_type": "code",
      "source": [
        "# Naive Bayas classification\n",
        "len(filtered_contents)"
      ],
      "metadata": {
        "id": "hBgpKEkpiCoM",
        "colab": {
          "base_uri": "https://localhost:8080/",
          "height": 0
        },
        "outputId": "220a4826-a3b3-4412-8e2e-5c42b695da21"
      },
      "execution_count": 91,
      "outputs": [
        {
          "output_type": "execute_result",
          "data": {
            "text/plain": [
              "5145"
            ]
          },
          "metadata": {},
          "execution_count": 91
        }
      ]
    },
    {
      "cell_type": "code",
      "source": [
        "# Support Vector Matrix"
      ],
      "metadata": {
        "id": "RB4vwo5CxJU0"
      },
      "execution_count": 93,
      "outputs": []
    },
    {
      "cell_type": "markdown",
      "source": [
        "## 4. Analysis"
      ],
      "metadata": {
        "id": "A098MvHBsb0W"
      }
    },
    {
      "cell_type": "code",
      "source": [],
      "metadata": {
        "id": "Ecu5ZPj-sd_V"
      },
      "execution_count": null,
      "outputs": []
    },
    {
      "cell_type": "markdown",
      "source": [
        "## 5. Future Scopre"
      ],
      "metadata": {
        "id": "98fbN9uTshJO"
      }
    },
    {
      "cell_type": "code",
      "source": [],
      "metadata": {
        "id": "_An4F4AFsjLU"
      },
      "execution_count": null,
      "outputs": []
    }
  ]
}