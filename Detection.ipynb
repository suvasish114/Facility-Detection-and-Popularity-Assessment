{
  "nbformat": 4,
  "nbformat_minor": 0,
  "metadata": {
    "colab": {
      "provenance": [],
      "collapsed_sections": [
        "x1IJjuIMsmPI",
        "wOkGu-wjKaoM",
        "F3ejcOeWh_od",
        "A098MvHBsb0W",
        "98fbN9uTshJO"
      ],
      "authorship_tag": "ABX9TyM/SWXHu//LVauSrsB3msmM",
      "include_colab_link": true
    },
    "kernelspec": {
      "name": "python3",
      "display_name": "Python 3"
    },
    "language_info": {
      "name": "python"
    }
  },
  "cells": [
    {
      "cell_type": "markdown",
      "metadata": {
        "id": "view-in-github",
        "colab_type": "text"
      },
      "source": [
        "<a href=\"https://colab.research.google.com/github/suvasish114/Facility-Detection-and-Popularity-Assessment/blob/main/Detection.ipynb\" target=\"_parent\"><img src=\"https://colab.research.google.com/assets/colab-badge.svg\" alt=\"Open In Colab\"/></a>"
      ]
    },
    {
      "cell_type": "markdown",
      "source": [
        "# Facility Detection and Popularity Assessment"
      ],
      "metadata": {
        "id": "M4v9ltkUIW54"
      }
    },
    {
      "cell_type": "markdown",
      "source": [
        "## 1. Data Collection"
      ],
      "metadata": {
        "id": "x1IJjuIMsmPI"
      }
    },
    {
      "cell_type": "code",
      "execution_count": null,
      "metadata": {
        "id": "BdlEkMBWIORC"
      },
      "outputs": [],
      "source": [
        "# Installing Libraries\n",
        "%pip install numpy pandas matplotlib nltk sklearn"
      ]
    },
    {
      "cell_type": "code",
      "source": [
        "# Importing libraries\n",
        "import re\n",
        "import random\n",
        "import numpy as np\n",
        "import pandas as pd\n",
        "from matplotlib import pyplot as plt\n",
        "import nltk\n",
        "nltk.download('all')\n",
        "from nltk.tokenize import word_tokenize\n",
        "from nltk.corpus import stopwords\n",
        "from nltk.stem import WordNetLemmatizer\n",
        "from sklearn.feature_extraction.text import TfidfVectorizer\n",
        "lemmatizer = WordNetLemmatizer()"
      ],
      "metadata": {
        "id": "5x_f88HVImQG"
      },
      "execution_count": null,
      "outputs": []
    },
    {
      "cell_type": "code",
      "source": [
        "# Load datasets\n",
        "dataset = pd.read_csv(\"twitter.csv\")\n",
        "dataset.info()"
      ],
      "metadata": {
        "colab": {
          "base_uri": "https://localhost:8080/"
        },
        "id": "oQKFWwiZItv0",
        "outputId": "b115f7cc-736d-4fc0-9887-7aad3a094b1a"
      },
      "execution_count": 3,
      "outputs": [
        {
          "output_type": "stream",
          "name": "stdout",
          "text": [
            "<class 'pandas.core.frame.DataFrame'>\n",
            "RangeIndex: 5145 entries, 0 to 5144\n",
            "Data columns (total 12 columns):\n",
            " #   Column      Non-Null Count  Dtype  \n",
            "---  ------      --------------  -----  \n",
            " 0   Unnamed: 0  5145 non-null   int64  \n",
            " 1   id          5145 non-null   int64  \n",
            " 2   date        5145 non-null   object \n",
            " 3   username    5145 non-null   object \n",
            " 4   content     5145 non-null   object \n",
            " 5   hashtags    1206 non-null   object \n",
            " 6   likes       5145 non-null   int64  \n",
            " 7   view        5141 non-null   float64\n",
            " 8   longitude   5145 non-null   float64\n",
            " 9   latitude    5145 non-null   float64\n",
            " 10  place       5145 non-null   object \n",
            " 11  country     5142 non-null   object \n",
            "dtypes: float64(3), int64(3), object(6)\n",
            "memory usage: 482.5+ KB\n"
          ]
        }
      ]
    },
    {
      "cell_type": "markdown",
      "source": [
        "## 2. Data Cleaning and Sanitization"
      ],
      "metadata": {
        "id": "wOkGu-wjKaoM"
      }
    },
    {
      "cell_type": "code",
      "source": [
        "# size of the dataset\n",
        "print(f\"Size: {dataset.shape[0]}\")\n",
        "# check for missing values\n",
        "print(f\"Missing content present: {dataset['content'].isna().any()}\")\n",
        "print(f\"Missing hashtags present: {dataset['hashtags'].isna().any()}\")"
      ],
      "metadata": {
        "colab": {
          "base_uri": "https://localhost:8080/"
        },
        "id": "DqnvPcpKK8mA",
        "outputId": "7564e86a-98b6-42f8-94e0-a78314289d0d"
      },
      "execution_count": 4,
      "outputs": [
        {
          "output_type": "stream",
          "name": "stdout",
          "text": [
            "Size: 5145\n",
            "Missing content present: False\n",
            "Missing hashtags present: True\n"
          ]
        }
      ]
    },
    {
      "cell_type": "code",
      "source": [
        "# setup training data contains only english language\n",
        "training_data = dataset[[\"content\"]]\n",
        "training_data.head()"
      ],
      "metadata": {
        "id": "bflZIGiNUJlU",
        "colab": {
          "base_uri": "https://localhost:8080/",
          "height": 206
        },
        "outputId": "a18b10d3-a2b3-4bd9-d1ef-e1193c732396"
      },
      "execution_count": 5,
      "outputs": [
        {
          "output_type": "execute_result",
          "data": {
            "text/plain": [
              "                                             content\n",
              "0  Update: We tracked our own air tags to the air...\n",
              "1  Self check in at airports is not for all passp...\n",
              "2  Stopover at 🇦🇪 before 🇮🇹❗️ (@ Dubai Internatio...\n",
              "3  Yallll I realized I forgot my wallet once I go...\n",
              "4  Checked out 😩 (@ Holiday Inn Express Sydney Ai..."
            ],
            "text/html": [
              "\n",
              "  <div id=\"df-bf0df9c7-6b6d-4fde-8f42-771653198b00\">\n",
              "    <div class=\"colab-df-container\">\n",
              "      <div>\n",
              "<style scoped>\n",
              "    .dataframe tbody tr th:only-of-type {\n",
              "        vertical-align: middle;\n",
              "    }\n",
              "\n",
              "    .dataframe tbody tr th {\n",
              "        vertical-align: top;\n",
              "    }\n",
              "\n",
              "    .dataframe thead th {\n",
              "        text-align: right;\n",
              "    }\n",
              "</style>\n",
              "<table border=\"1\" class=\"dataframe\">\n",
              "  <thead>\n",
              "    <tr style=\"text-align: right;\">\n",
              "      <th></th>\n",
              "      <th>content</th>\n",
              "    </tr>\n",
              "  </thead>\n",
              "  <tbody>\n",
              "    <tr>\n",
              "      <th>0</th>\n",
              "      <td>Update: We tracked our own air tags to the air...</td>\n",
              "    </tr>\n",
              "    <tr>\n",
              "      <th>1</th>\n",
              "      <td>Self check in at airports is not for all passp...</td>\n",
              "    </tr>\n",
              "    <tr>\n",
              "      <th>2</th>\n",
              "      <td>Stopover at 🇦🇪 before 🇮🇹❗️ (@ Dubai Internatio...</td>\n",
              "    </tr>\n",
              "    <tr>\n",
              "      <th>3</th>\n",
              "      <td>Yallll I realized I forgot my wallet once I go...</td>\n",
              "    </tr>\n",
              "    <tr>\n",
              "      <th>4</th>\n",
              "      <td>Checked out 😩 (@ Holiday Inn Express Sydney Ai...</td>\n",
              "    </tr>\n",
              "  </tbody>\n",
              "</table>\n",
              "</div>\n",
              "      <button class=\"colab-df-convert\" onclick=\"convertToInteractive('df-bf0df9c7-6b6d-4fde-8f42-771653198b00')\"\n",
              "              title=\"Convert this dataframe to an interactive table.\"\n",
              "              style=\"display:none;\">\n",
              "        \n",
              "  <svg xmlns=\"http://www.w3.org/2000/svg\" height=\"24px\"viewBox=\"0 0 24 24\"\n",
              "       width=\"24px\">\n",
              "    <path d=\"M0 0h24v24H0V0z\" fill=\"none\"/>\n",
              "    <path d=\"M18.56 5.44l.94 2.06.94-2.06 2.06-.94-2.06-.94-.94-2.06-.94 2.06-2.06.94zm-11 1L8.5 8.5l.94-2.06 2.06-.94-2.06-.94L8.5 2.5l-.94 2.06-2.06.94zm10 10l.94 2.06.94-2.06 2.06-.94-2.06-.94-.94-2.06-.94 2.06-2.06.94z\"/><path d=\"M17.41 7.96l-1.37-1.37c-.4-.4-.92-.59-1.43-.59-.52 0-1.04.2-1.43.59L10.3 9.45l-7.72 7.72c-.78.78-.78 2.05 0 2.83L4 21.41c.39.39.9.59 1.41.59.51 0 1.02-.2 1.41-.59l7.78-7.78 2.81-2.81c.8-.78.8-2.07 0-2.86zM5.41 20L4 18.59l7.72-7.72 1.47 1.35L5.41 20z\"/>\n",
              "  </svg>\n",
              "      </button>\n",
              "      \n",
              "  <style>\n",
              "    .colab-df-container {\n",
              "      display:flex;\n",
              "      flex-wrap:wrap;\n",
              "      gap: 12px;\n",
              "    }\n",
              "\n",
              "    .colab-df-convert {\n",
              "      background-color: #E8F0FE;\n",
              "      border: none;\n",
              "      border-radius: 50%;\n",
              "      cursor: pointer;\n",
              "      display: none;\n",
              "      fill: #1967D2;\n",
              "      height: 32px;\n",
              "      padding: 0 0 0 0;\n",
              "      width: 32px;\n",
              "    }\n",
              "\n",
              "    .colab-df-convert:hover {\n",
              "      background-color: #E2EBFA;\n",
              "      box-shadow: 0px 1px 2px rgba(60, 64, 67, 0.3), 0px 1px 3px 1px rgba(60, 64, 67, 0.15);\n",
              "      fill: #174EA6;\n",
              "    }\n",
              "\n",
              "    [theme=dark] .colab-df-convert {\n",
              "      background-color: #3B4455;\n",
              "      fill: #D2E3FC;\n",
              "    }\n",
              "\n",
              "    [theme=dark] .colab-df-convert:hover {\n",
              "      background-color: #434B5C;\n",
              "      box-shadow: 0px 1px 3px 1px rgba(0, 0, 0, 0.15);\n",
              "      filter: drop-shadow(0px 1px 2px rgba(0, 0, 0, 0.3));\n",
              "      fill: #FFFFFF;\n",
              "    }\n",
              "  </style>\n",
              "\n",
              "      <script>\n",
              "        const buttonEl =\n",
              "          document.querySelector('#df-bf0df9c7-6b6d-4fde-8f42-771653198b00 button.colab-df-convert');\n",
              "        buttonEl.style.display =\n",
              "          google.colab.kernel.accessAllowed ? 'block' : 'none';\n",
              "\n",
              "        async function convertToInteractive(key) {\n",
              "          const element = document.querySelector('#df-bf0df9c7-6b6d-4fde-8f42-771653198b00');\n",
              "          const dataTable =\n",
              "            await google.colab.kernel.invokeFunction('convertToInteractive',\n",
              "                                                     [key], {});\n",
              "          if (!dataTable) return;\n",
              "\n",
              "          const docLinkHtml = 'Like what you see? Visit the ' +\n",
              "            '<a target=\"_blank\" href=https://colab.research.google.com/notebooks/data_table.ipynb>data table notebook</a>'\n",
              "            + ' to learn more about interactive tables.';\n",
              "          element.innerHTML = '';\n",
              "          dataTable['output_type'] = 'display_data';\n",
              "          await google.colab.output.renderOutput(dataTable, element);\n",
              "          const docLink = document.createElement('div');\n",
              "          docLink.innerHTML = docLinkHtml;\n",
              "          element.appendChild(docLink);\n",
              "        }\n",
              "      </script>\n",
              "    </div>\n",
              "  </div>\n",
              "  "
            ]
          },
          "metadata": {},
          "execution_count": 5
        }
      ]
    },
    {
      "cell_type": "code",
      "source": [
        "# Data sanitation\n",
        "def sanitation(content):\n",
        "    ''' 1. Remove all URLs.\n",
        "        2. Remove all non-ASCII characters, and numbers.\n",
        "        3. Replace @ with 'at'.\n",
        "        4. Replace _ with space.\n",
        "        5. Lower case all characters. '''\n",
        "    ascii = [32] + list(range(65,91)) + list(range(97,123))\n",
        "    _s = content.split(\" \")\n",
        "    temp = []\n",
        "    for a in _s:\n",
        "        # remove URL\n",
        "        if re.findall(\"^http\",a): pass\n",
        "        # remove non-ASCII characters and numbers\n",
        "        else:\n",
        "            temp1 = \"\"\n",
        "            for b in a:\n",
        "                if b == \"@\": temp1 += \"at \"\n",
        "                elif b == \"_\": temp1 += \" \"\n",
        "                elif ord(b) in ascii: temp1 += b\n",
        "                # else: pass\n",
        "            if len(temp1.strip()) > 0: temp.append(temp1.lower())\n",
        "    return \" \".join(temp).strip()\n",
        "\n",
        "# sanitation(\"my favourite track is feel_good_inside by @gorilaz\")"
      ],
      "metadata": {
        "id": "H4JdwDlTeJ73"
      },
      "execution_count": 6,
      "outputs": []
    },
    {
      "cell_type": "code",
      "source": [
        "# Word tokenization\n",
        "# removed non-ASCII characters\n",
        "tokenize = []\n",
        "for a in list(training_data[\"content\"]):\n",
        "    tokenize.append(word_tokenize(sanitation(a)))"
      ],
      "metadata": {
        "id": "MxQe75-9ZgTk"
      },
      "execution_count": 7,
      "outputs": []
    },
    {
      "cell_type": "code",
      "source": [
        "# Removing stop words\n",
        "stop_words = set(stopwords.words('english'))\n",
        "stop_words.remove('at')\n",
        "filtered_contents = []\n",
        "for w in tokenize:\n",
        "    temp = [a for a in w if a not in stop_words]\n",
        "    filtered_contents.append(temp)\n",
        "\n",
        "# free memeory\n",
        "del tokenize"
      ],
      "metadata": {
        "id": "xeOc0MXJdTvm"
      },
      "execution_count": 8,
      "outputs": []
    },
    {
      "cell_type": "code",
      "source": [
        "# Lemmatization\n",
        "for i in range(len(filtered_contents)):\n",
        "    for j in range(len(filtered_contents[i])):\n",
        "        filtered_contents[i][j] = lemmatizer.lemmatize(filtered_contents[i][j])"
      ],
      "metadata": {
        "id": "C-ob3_cHdw0r"
      },
      "execution_count": 9,
      "outputs": []
    },
    {
      "cell_type": "code",
      "source": [
        "# Creating training dataset\n",
        "temp = []\n",
        "for a in filtered_contents:\n",
        "    temp.append([\" \".join(a),random.randint(0,1)])\n",
        "training_data = pd.DataFrame(temp, columns=[\"content\",\"class\"])\n",
        "training_data.head()"
      ],
      "metadata": {
        "colab": {
          "base_uri": "https://localhost:8080/",
          "height": 206
        },
        "id": "oZeMyCqLIdDp",
        "outputId": "57fafbf8-51da-445f-fdcd-149f9a7b0995"
      },
      "execution_count": 28,
      "outputs": [
        {
          "output_type": "execute_result",
          "data": {
            "text/plain": [
              "                                             content  class\n",
              "0  update tracked air tag airport man man finally...      0\n",
              "1  self check at airport passport holder shaawon ...      1\n",
              "2   stopover at at dubai international airport dubai      0\n",
              "3  yallll realized forgot wallet got airport tsa ...      0\n",
              "4  checked at holiday inn express sydney airport ...      0"
            ],
            "text/html": [
              "\n",
              "  <div id=\"df-5d87dc26-2e9d-4807-9e15-60f6f0f24349\">\n",
              "    <div class=\"colab-df-container\">\n",
              "      <div>\n",
              "<style scoped>\n",
              "    .dataframe tbody tr th:only-of-type {\n",
              "        vertical-align: middle;\n",
              "    }\n",
              "\n",
              "    .dataframe tbody tr th {\n",
              "        vertical-align: top;\n",
              "    }\n",
              "\n",
              "    .dataframe thead th {\n",
              "        text-align: right;\n",
              "    }\n",
              "</style>\n",
              "<table border=\"1\" class=\"dataframe\">\n",
              "  <thead>\n",
              "    <tr style=\"text-align: right;\">\n",
              "      <th></th>\n",
              "      <th>content</th>\n",
              "      <th>class</th>\n",
              "    </tr>\n",
              "  </thead>\n",
              "  <tbody>\n",
              "    <tr>\n",
              "      <th>0</th>\n",
              "      <td>update tracked air tag airport man man finally...</td>\n",
              "      <td>0</td>\n",
              "    </tr>\n",
              "    <tr>\n",
              "      <th>1</th>\n",
              "      <td>self check at airport passport holder shaawon ...</td>\n",
              "      <td>1</td>\n",
              "    </tr>\n",
              "    <tr>\n",
              "      <th>2</th>\n",
              "      <td>stopover at at dubai international airport dubai</td>\n",
              "      <td>0</td>\n",
              "    </tr>\n",
              "    <tr>\n",
              "      <th>3</th>\n",
              "      <td>yallll realized forgot wallet got airport tsa ...</td>\n",
              "      <td>0</td>\n",
              "    </tr>\n",
              "    <tr>\n",
              "      <th>4</th>\n",
              "      <td>checked at holiday inn express sydney airport ...</td>\n",
              "      <td>0</td>\n",
              "    </tr>\n",
              "  </tbody>\n",
              "</table>\n",
              "</div>\n",
              "      <button class=\"colab-df-convert\" onclick=\"convertToInteractive('df-5d87dc26-2e9d-4807-9e15-60f6f0f24349')\"\n",
              "              title=\"Convert this dataframe to an interactive table.\"\n",
              "              style=\"display:none;\">\n",
              "        \n",
              "  <svg xmlns=\"http://www.w3.org/2000/svg\" height=\"24px\"viewBox=\"0 0 24 24\"\n",
              "       width=\"24px\">\n",
              "    <path d=\"M0 0h24v24H0V0z\" fill=\"none\"/>\n",
              "    <path d=\"M18.56 5.44l.94 2.06.94-2.06 2.06-.94-2.06-.94-.94-2.06-.94 2.06-2.06.94zm-11 1L8.5 8.5l.94-2.06 2.06-.94-2.06-.94L8.5 2.5l-.94 2.06-2.06.94zm10 10l.94 2.06.94-2.06 2.06-.94-2.06-.94-.94-2.06-.94 2.06-2.06.94z\"/><path d=\"M17.41 7.96l-1.37-1.37c-.4-.4-.92-.59-1.43-.59-.52 0-1.04.2-1.43.59L10.3 9.45l-7.72 7.72c-.78.78-.78 2.05 0 2.83L4 21.41c.39.39.9.59 1.41.59.51 0 1.02-.2 1.41-.59l7.78-7.78 2.81-2.81c.8-.78.8-2.07 0-2.86zM5.41 20L4 18.59l7.72-7.72 1.47 1.35L5.41 20z\"/>\n",
              "  </svg>\n",
              "      </button>\n",
              "      \n",
              "  <style>\n",
              "    .colab-df-container {\n",
              "      display:flex;\n",
              "      flex-wrap:wrap;\n",
              "      gap: 12px;\n",
              "    }\n",
              "\n",
              "    .colab-df-convert {\n",
              "      background-color: #E8F0FE;\n",
              "      border: none;\n",
              "      border-radius: 50%;\n",
              "      cursor: pointer;\n",
              "      display: none;\n",
              "      fill: #1967D2;\n",
              "      height: 32px;\n",
              "      padding: 0 0 0 0;\n",
              "      width: 32px;\n",
              "    }\n",
              "\n",
              "    .colab-df-convert:hover {\n",
              "      background-color: #E2EBFA;\n",
              "      box-shadow: 0px 1px 2px rgba(60, 64, 67, 0.3), 0px 1px 3px 1px rgba(60, 64, 67, 0.15);\n",
              "      fill: #174EA6;\n",
              "    }\n",
              "\n",
              "    [theme=dark] .colab-df-convert {\n",
              "      background-color: #3B4455;\n",
              "      fill: #D2E3FC;\n",
              "    }\n",
              "\n",
              "    [theme=dark] .colab-df-convert:hover {\n",
              "      background-color: #434B5C;\n",
              "      box-shadow: 0px 1px 3px 1px rgba(0, 0, 0, 0.15);\n",
              "      filter: drop-shadow(0px 1px 2px rgba(0, 0, 0, 0.3));\n",
              "      fill: #FFFFFF;\n",
              "    }\n",
              "  </style>\n",
              "\n",
              "      <script>\n",
              "        const buttonEl =\n",
              "          document.querySelector('#df-5d87dc26-2e9d-4807-9e15-60f6f0f24349 button.colab-df-convert');\n",
              "        buttonEl.style.display =\n",
              "          google.colab.kernel.accessAllowed ? 'block' : 'none';\n",
              "\n",
              "        async function convertToInteractive(key) {\n",
              "          const element = document.querySelector('#df-5d87dc26-2e9d-4807-9e15-60f6f0f24349');\n",
              "          const dataTable =\n",
              "            await google.colab.kernel.invokeFunction('convertToInteractive',\n",
              "                                                     [key], {});\n",
              "          if (!dataTable) return;\n",
              "\n",
              "          const docLinkHtml = 'Like what you see? Visit the ' +\n",
              "            '<a target=\"_blank\" href=https://colab.research.google.com/notebooks/data_table.ipynb>data table notebook</a>'\n",
              "            + ' to learn more about interactive tables.';\n",
              "          element.innerHTML = '';\n",
              "          dataTable['output_type'] = 'display_data';\n",
              "          await google.colab.output.renderOutput(dataTable, element);\n",
              "          const docLink = document.createElement('div');\n",
              "          docLink.innerHTML = docLinkHtml;\n",
              "          element.appendChild(docLink);\n",
              "        }\n",
              "      </script>\n",
              "    </div>\n",
              "  </div>\n",
              "  "
            ]
          },
          "metadata": {},
          "execution_count": 28
        }
      ]
    },
    {
      "cell_type": "code",
      "source": [
        "# Vectorization\n",
        "tfidfVectorizer = TfidfVectorizer()\n",
        "tfidf_corpus = tfidfVectorizer.fit_transform(training_data[\"content\"])"
      ],
      "metadata": {
        "id": "ICgFFU82MyEM"
      },
      "execution_count": 27,
      "outputs": []
    },
    {
      "cell_type": "code",
      "source": [
        "print(tfidf_corpus)"
      ],
      "metadata": {
        "colab": {
          "base_uri": "https://localhost:8080/"
        },
        "id": "FkaA8YiFM6x3",
        "outputId": "3a23d97b-6c4c-49f8-aafc-fb3c11e9b3b4"
      },
      "execution_count": 30,
      "outputs": [
        {
          "output_type": "stream",
          "name": "stdout",
          "text": [
            "  (0, 3190)\t0.20326458156353006\n",
            "  (0, 6374)\t0.259932916090755\n",
            "  (0, 4884)\t0.3551754072726634\n",
            "  (0, 4445)\t0.27210247658918724\n",
            "  (0, 7544)\t0.5097986169293055\n",
            "  (0, 353)\t0.04681640826638896\n",
            "  (0, 12030)\t0.3651615134188747\n",
            "  (0, 312)\t0.2568453514538075\n",
            "  (0, 12560)\t0.396181192362104\n",
            "  (0, 12957)\t0.2693894073341391\n",
            "  (1, 4875)\t0.4209763934415294\n",
            "  (1, 191)\t0.4209763934415294\n",
            "  (1, 11012)\t0.4209763934415294\n",
            "  (1, 5558)\t0.4016954085972346\n",
            "  (1, 9173)\t0.3251621943281612\n",
            "  (1, 965)\t0.07133228991674437\n",
            "  (1, 2368)\t0.2600392965869691\n",
            "  (1, 10915)\t0.35505427084213326\n",
            "  (1, 353)\t0.04974643694811551\n",
            "  (2, 6124)\t0.18793416244052272\n",
            "  (2, 3723)\t0.7901550937890729\n",
            "  (2, 11721)\t0.5460356680114836\n",
            "  (2, 965)\t0.1939279052827415\n",
            "  (2, 353)\t0.06762170626996408\n",
            "  (3, 11138)\t0.2792103104739601\n",
            "  :\t:\n",
            "  (5143, 8496)\t0.17236782349582538\n",
            "  (5143, 6124)\t0.09819942406237897\n",
            "  (5143, 965)\t0.1013312766613984\n",
            "  (5143, 353)\t0.0706674350590983\n",
            "  (5144, 10825)\t0.23000791827249412\n",
            "  (5144, 4125)\t0.23467312543797578\n",
            "  (5144, 11904)\t0.39070340227683625\n",
            "  (5144, 11760)\t0.23000791827249412\n",
            "  (5144, 7325)\t0.16817644923876546\n",
            "  (5144, 2785)\t0.2112733518469224\n",
            "  (5144, 2013)\t0.2014247873383706\n",
            "  (5144, 607)\t0.16075807749420085\n",
            "  (5144, 3980)\t0.194006415593806\n",
            "  (5144, 5385)\t0.17302904982996162\n",
            "  (5144, 13597)\t0.20903055250864974\n",
            "  (5144, 6801)\t0.15666211485183365\n",
            "  (5144, 7308)\t0.36435452094109994\n",
            "  (5144, 8496)\t0.1544466913105958\n",
            "  (5144, 7305)\t0.1551672953911304\n",
            "  (5144, 12393)\t0.237387784341369\n",
            "  (5144, 4512)\t0.33432671424912186\n",
            "  (5144, 2500)\t0.12885502493920784\n",
            "  (5144, 5882)\t0.09445696864149976\n",
            "  (5144, 965)\t0.1815916693640982\n",
            "  (5144, 353)\t0.06332012151066273\n"
          ]
        }
      ]
    },
    {
      "cell_type": "markdown",
      "source": [
        "## 3. Classification"
      ],
      "metadata": {
        "id": "F3ejcOeWh_od"
      }
    },
    {
      "cell_type": "code",
      "source": [
        "# Naive Bayas classification\n",
        "len(filtered_contents)"
      ],
      "metadata": {
        "id": "hBgpKEkpiCoM",
        "colab": {
          "base_uri": "https://localhost:8080/"
        },
        "outputId": "8165b704-a61e-4bfe-8ccd-7e656fad64f3"
      },
      "execution_count": 10,
      "outputs": [
        {
          "output_type": "execute_result",
          "data": {
            "text/plain": [
              "5145"
            ]
          },
          "metadata": {},
          "execution_count": 10
        }
      ]
    },
    {
      "cell_type": "code",
      "source": [
        "# Support Vector Matrix\n"
      ],
      "metadata": {
        "id": "RB4vwo5CxJU0"
      },
      "execution_count": 11,
      "outputs": []
    },
    {
      "cell_type": "markdown",
      "source": [
        "## 4. Analysis"
      ],
      "metadata": {
        "id": "A098MvHBsb0W"
      }
    },
    {
      "cell_type": "code",
      "source": [],
      "metadata": {
        "id": "Ecu5ZPj-sd_V"
      },
      "execution_count": 11,
      "outputs": []
    },
    {
      "cell_type": "markdown",
      "source": [
        "## 5. Future Scopre"
      ],
      "metadata": {
        "id": "98fbN9uTshJO"
      }
    },
    {
      "cell_type": "code",
      "source": [],
      "metadata": {
        "id": "_An4F4AFsjLU"
      },
      "execution_count": 11,
      "outputs": []
    }
  ]
}